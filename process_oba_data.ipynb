{
 "cells": [
  {
   "cell_type": "code",
   "execution_count": 47,
   "id": "42dc1d96",
   "metadata": {},
   "outputs": [],
   "source": [
    "import pandas as pd\n",
    "import matplotlib.pyplot as plt\n",
    "from matplotlib.patches import Rectangle\n",
    "import matplotlib\n",
    "matplotlib.rcParams['font.family'] = 'Nimbus Sans'\n",
    "plt.rcParams['font.size'] = 10"
   ]
  },
  {
   "cell_type": "code",
   "execution_count": 48,
   "id": "0dde6c07",
   "metadata": {},
   "outputs": [
    {
     "name": "stderr",
     "output_type": "stream",
     "text": [
      "/tmp/ipykernel_369013/452257688.py:1: DtypeWarning: Columns (0,1,2,8,9,10,11,13,15,18,19,20,21,22,23,24,25,26,27,34,35,36,37,42,43,44,45,46,47,48,49,52,53,54,55,56,57,58,59,62,65) have mixed types. Specify dtype option on import or set low_memory=False.\n",
      "  data = pd.read_csv('csv/OBA_2018-2023_combined_dataset_working.csv', encoding=\"latin1\")\n"
     ]
    },
    {
     "name": "stdout",
     "output_type": "stream",
     "text": [
      "Collectionmethod\n",
      "net      12270\n",
      "pan        192\n",
      "vane       110\n",
      "jar          8\n",
      "nest         6\n",
      "other        3\n",
      "Name: count, dtype: int64 \n",
      "\n",
      "\n"
     ]
    },
    {
     "name": "stderr",
     "output_type": "stream",
     "text": [
      "/tmp/ipykernel_369013/452257688.py:6: SettingWithCopyWarning: \n",
      "A value is trying to be set on a copy of a slice from a DataFrame.\n",
      "Try using .loc[row_indexer,col_indexer] = value instead\n",
      "\n",
      "See the caveats in the documentation: https://pandas.pydata.org/pandas-docs/stable/user_guide/indexing.html#returning-a-view-versus-a-copy\n",
      "  bombus_OR_clean['Collectionmethod'] = bombus_OR_clean['Collectionmethod'].replace({'Net':'net', 'Vane':'vane', 'Pan':'pan', 'Blue vane':'vane', 'vane ':'vane',\n"
     ]
    }
   ],
   "source": [
    "data = pd.read_csv('csv/OBA_2018-2023_combined_dataset_working.csv', encoding=\"latin1\")\n",
    "bombus_data = data[data['Genus'] == 'Bombus']\n",
    "bombus_OR = bombus_data[bombus_data['State'].isin(['Oregon', 'Oregon ', 'OR'])]\n",
    "bombus_OR_clean = bombus_OR[['Species', 'Collection Date', 'Dec. Lat.', 'Dec. Long.', 'Collectionmethod']]\n",
    "bombus_OR_clean['Collectionmethod'].unique()\n",
    "bombus_OR_clean['Collectionmethod'] = bombus_OR_clean['Collectionmethod'].replace({'Net':'net', 'Vane':'vane', 'Pan':'pan', 'Blue vane':'vane', 'vane ':'vane',\n",
    "       'pan traps':'pan', 'Vane Trap':'vane', 'Pan Trap':'pan',\n",
    "       'Blue Pan Trap':'pan', 'White Pan Trap':'pan', 'Blue Vane Trap':'vane', 'vane trap':'vane'})\n",
    "\n",
    "booc = bombus_OR[bombus_OR['Species'] == 'occidentalis']\n",
    "print(bombus_OR_clean['Collectionmethod'].value_counts(), '\\n\\n')\n",
    "\n",
    "# bombus_OR_clean.to_csv('csv/oba_bombus_cleaned.csv', index=False)"
   ]
  },
  {
   "cell_type": "code",
   "execution_count": 49,
   "id": "10a61e6b",
   "metadata": {},
   "outputs": [],
   "source": [
    "# BOMBUS LIST FOR EACH NF\n",
    "data = {\n",
    "    \"Siskiyou\": [\n",
    "    \"caliginosus\",\n",
    "    \"fervidus\",\n",
    "    \"flavidus\",\n",
    "    \"flavifrons\",\n",
    "    \"huntii\",\n",
    "    \"insularis\",\n",
    "    \"melanopygus\",\n",
    "    \"mixtus\",\n",
    "    \"occidentalis\",\n",
    "    \"rufocinctus\",\n",
    "    \"sitkensis\",\n",
    "    \"vancouverensis\",\n",
    "    \"vandykei\",\n",
    "    \"vosnesenskii\"\n",
    "],\n",
    "    \"Willamette\": [\n",
    "    \"appositus\",\n",
    "    \"caliginosus\",\n",
    "    \"flavidus\",\n",
    "    \"flavifrons\",\n",
    "    \"insularis\",\n",
    "    \"melanopygus\",\n",
    "    \"mixtus\",\n",
    "    \"morrisoni\",\n",
    "    \"occidentalis\",\n",
    "    \"rufocinctus\",\n",
    "    \"sitkensis\",\n",
    "    \"vancouverensis\",\n",
    "    \"vandykei\",\n",
    "    \"vosnesenskii\"\n",
    "],\n",
    "    \"Mt. Hood\": [\n",
    "    \"appositus\",\n",
    "    \"caliginosus\",\n",
    "    \"fervidus\",\n",
    "    \"flavidus\",\n",
    "    \"flavifrons\",\n",
    "    \"insularis\",\n",
    "    \"melanopygus\",\n",
    "    \"mixtus\",\n",
    "    \"occidentalis\",\n",
    "    \"rufocinctus\",\n",
    "    \"sitkensis\",\n",
    "    \"vancouverensis\",\n",
    "    \"vandykei\",\n",
    "    \"vosnesenskii\"\n",
    "],\n",
    "#     \"Umatilla\": [\n",
    "#     \"appositus\",\n",
    "#     \"centralis\",\n",
    "#     \"fervidus\",\n",
    "#     \"flavidus\",\n",
    "#     \"flavifrons\",\n",
    "#     \"insularis\",\n",
    "#     \"mixtus\",\n",
    "#     \"nevadensis\",\n",
    "#     \"occidentalis\",\n",
    "#     \"sitkensis\",\n",
    "#     \"vagans\",\n",
    "#     \"vancouverensis\"\n",
    "# ], \n",
    "    \"Umpqua\": [\n",
    "    \"caliginosus\",\n",
    "    \"flavidus\",\n",
    "    \"flavifrons\",\n",
    "    \"melanopygus\",\n",
    "    \"mixtus\",\n",
    "    \"occidentalis\",\n",
    "    \"sitkensis\",\n",
    "    \"vancouverensis\",\n",
    "    \"vosnesenskii\"\n",
    "]\n",
    "}\n"
   ]
  },
  {
   "cell_type": "code",
   "execution_count": 50,
   "id": "0e8bb899",
   "metadata": {},
   "outputs": [
    {
     "data": {
      "image/png": "[encoded data removed]",
      "text/plain": [
       "<Figure size 500x150 with 1 Axes>"
      ]
     },
     "metadata": {},
     "output_type": "display_data"
    }
   ],
   "source": [
    "forest_colors = {\n",
    "    \"Siskiyou\": \"#4C9A2A\",\n",
    "    \"Umatilla\": \"#8C7A3E\",\n",
    "    \"Umpqua\": \"#8C7A3E\",\n",
    "    \"Willamette\": \"#A8CC6F\",\n",
    "    \"Mt. Hood\": \"#49A874\"\n",
    "}\n",
    "\n",
    "\n",
    "all_species = sorted(set(s for sp_list in data.values() for s in sp_list))\n",
    "species_abbrev = [s for s in all_species]\n",
    "\n",
    "df = pd.DataFrame(0, index=data.keys(), columns=species_abbrev)\n",
    "for nf, sp_list in data.items():\n",
    "    for s in sp_list:\n",
    "        df.loc[nf, s] = 1\n",
    "custom_order = [\"Umpqua\", \"Siskiyou\", \"Willamette\", \"Mt. Hood\"]\n",
    "df = df.reindex(custom_order)\n",
    "\n",
    "fig, ax = plt.subplots(figsize=(5, 1.5))\n",
    "square_size = 0.9\n",
    "for i, nf in enumerate(df.index):\n",
    "    for j, sp in enumerate(df.columns):\n",
    "        if df.loc[nf, sp] == 1:\n",
    "            rect = Rectangle(\n",
    "                (j - square_size/2, i - square_size/2),\n",
    "                square_size, square_size,\n",
    "                facecolor=forest_colors[nf],\n",
    "                edgecolor='none'\n",
    "            )\n",
    "            ax.add_patch(rect)\n",
    "\n",
    "ax.set_xlim(-0.5, len(df.columns) - 0.5)\n",
    "ax.set_ylim(-0.5, len(df.index) - 0.5)\n",
    "ax.set_xticks(range(len(df.columns)))\n",
    "ax.set_xticklabels(df.columns, rotation=90, ha=\"center\")\n",
    "ax.set_yticks(range(len(df.index)))\n",
    "ax.set_yticklabels(df.index)\n",
    "ax.tick_params(axis='both', which='both', length=0)\n",
    "\n",
    "for spine in ax.spines.values():\n",
    "    spine.set_visible(False)\n",
    "\n",
    "plt.tight_layout()\n",
    "\n",
    "# plt.savefig('figs/bombus_presence_table_umpqua.svg', bbox_inches='tight', pad_inches=0, format='svg', dpi=300)"
   ]
  },
  {
   "cell_type": "code",
   "execution_count": 55,
   "id": "da045f74",
   "metadata": {},
   "outputs": [
    {
     "data": {
      "image/png": "[encoded data removed]",
      "text/plain": [
       "<Figure size 175x400 with 1 Axes>"
      ]
     },
     "metadata": {},
     "output_type": "display_data"
    }
   ],
   "source": [
    "fig, ax = plt.subplots(figsize=(1.75, 4))\n",
    "\n",
    "square_size = 0.9\n",
    "for i, sp in enumerate(df.columns): \n",
    "    for j, nf in enumerate(df.index):\n",
    "        if df.loc[nf, sp] == 1:\n",
    "            rect = Rectangle(\n",
    "                (j - square_size/2, i - square_size/2),\n",
    "                square_size, square_size,\n",
    "                facecolor=forest_colors[nf],\n",
    "                edgecolor='none'\n",
    "            )\n",
    "            ax.add_patch(rect)\n",
    "\n",
    "ax.set_xlim(-0.5, len(df.index) - 0.5)\n",
    "ax.set_ylim(-0.5, len(df.columns) - 0.5)\n",
    "\n",
    "ax.set_xticks(range(len(df.index)))\n",
    "ax.set_xticklabels(df.index, rotation=270, ha=\"center\", size=8)\n",
    "ax.set_yticks(range(len(df.columns)))\n",
    "ax.set_yticklabels(df.columns, size=8)\n",
    "ax.xaxis.tick_top()\n",
    "\n",
    "ax.tick_params(axis='both', which='both', length=0)\n",
    "for spine in ax.spines.values():\n",
    "    spine.set_visible(False)\n",
    "\n",
    "plt.tight_layout()\n",
    "plt.savefig('figs/bombus_presence_table_vertical.svg', bbox_inches='tight', pad_inches=0, format='svg', dpi=300)\n",
    "# plt.show()"
   ]
  }
 ],
 "metadata": {
  "kernelspec": {
   "display_name": "bee_mapping",
   "language": "python",
   "name": "python3"
  },
  "language_info": {
   "codemirror_mode": {
    "name": "ipython",
    "version": 3
   },
   "file_extension": ".py",
   "mimetype": "text/x-python",
   "name": "python",
   "nbconvert_exporter": "python",
   "pygments_lexer": "ipython3",
   "version": "3.12.0"
  }
 },
 "nbformat": 4,
 "nbformat_minor": 5
}
