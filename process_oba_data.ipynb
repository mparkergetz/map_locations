{
 "cells": [
  {
   "cell_type": "code",
   "execution_count": 1,
   "id": "42dc1d96",
   "metadata": {},
   "outputs": [],
   "source": [
    "import pandas as pd\n",
    "import matplotlib.pyplot as plt"
   ]
  },
  {
   "cell_type": "code",
   "execution_count": null,
   "id": "0dde6c07",
   "metadata": {},
   "outputs": [
    {
     "name": "stderr",
     "output_type": "stream",
     "text": [
      "/tmp/ipykernel_991945/1621381896.py:1: DtypeWarning: Columns (0,1,2,8,9,10,11,13,15,18,19,20,21,22,23,24,25,26,27,34,35,36,37,42,43,44,45,46,47,48,49,52,53,54,55,56,57,58,59,62,65) have mixed types. Specify dtype option on import or set low_memory=False.\n",
      "  data = pd.read_csv('OBA_2018-2023_combined_dataset_working.csv', encoding=\"latin1\")\n"
     ]
    }
   ],
   "source": [
    "data = pd.read_csv('csv/OBA_2018-2023_combined_dataset_working.csv', encoding=\"latin1\")\n",
    "bombus_data = data[data['Genus'] == 'Bombus']\n",
    "bombus_OR = bombus_data[bombus_data['State'].isin(['Oregon', 'Oregon ', 'OR'])]\n",
    "bombus_OR_clean = bombus_OR[['Species', 'Collection Date', 'Dec. Lat.', 'Dec. Long.', 'Collectionmethod']]\n",
    "bombus_OR_clean['Collectionmethod'].unique()\n",
    "bombus_OR_clean['Collectionmethod'] = bombus_OR_clean['Collectionmethod'].replace({'Net':'net', 'Vane':'vane', 'Pan':'pan', 'Blue vane':'vane', 'vane ':'vane',\n",
    "       'pan traps':'pan', 'Vane Trap':'vane', 'Pan Trap':'pan',\n",
    "       'Blue Pan Trap':'pan', 'White Pan Trap':'pan', 'Blue Vane Trap':'vane', 'vane trap':'vane'})"
   ]
  },
  {
   "cell_type": "code",
   "execution_count": 17,
   "id": "971b040a",
   "metadata": {},
   "outputs": [
    {
     "data": {
      "application/vnd.microsoft.datawrangler.viewer.v0+json": {
       "columns": [
        {
         "name": "Collectionmethod",
         "rawType": "object",
         "type": "string"
        },
        {
         "name": "count",
         "rawType": "int64",
         "type": "integer"
        }
       ],
       "ref": "4300e211-f2d1-40d1-a4c0-6a6c9f9b5168",
       "rows": [
        [
         "net",
         "12270"
        ],
        [
         "pan",
         "192"
        ],
        [
         "vane",
         "110"
        ],
        [
         "jar",
         "8"
        ],
        [
         "nest",
         "6"
        ],
        [
         "other",
         "3"
        ]
       ],
       "shape": {
        "columns": 1,
        "rows": 6
       }
      },
      "text/plain": [
       "Collectionmethod\n",
       "net      12270\n",
       "pan        192\n",
       "vane       110\n",
       "jar          8\n",
       "nest         6\n",
       "other        3\n",
       "Name: count, dtype: int64"
      ]
     },
     "execution_count": 17,
     "metadata": {},
     "output_type": "execute_result"
    }
   ],
   "source": [
    "bombus_OR_clean['Collectionmethod'].value_counts()"
   ]
  },
  {
   "cell_type": "code",
   "execution_count": 19,
   "id": "10a61e6b",
   "metadata": {},
   "outputs": [],
   "source": [
    "bombus_OR_clean.to_csv('csv/oba_bombus_cleaned.csv', index=False)"
   ]
  }
 ],
 "metadata": {
  "kernelspec": {
   "display_name": "bee_mapping",
   "language": "python",
   "name": "python3"
  },
  "language_info": {
   "codemirror_mode": {
    "name": "ipython",
    "version": 3
   },
   "file_extension": ".py",
   "mimetype": "text/x-python",
   "name": "python",
   "nbconvert_exporter": "python",
   "pygments_lexer": "ipython3",
   "version": "3.12.0"
  }
 },
 "nbformat": 4,
 "nbformat_minor": 5
}
