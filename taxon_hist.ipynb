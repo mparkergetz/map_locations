{
 "cells": [
  {
   "cell_type": "code",
   "execution_count": 1,
   "metadata": {},
   "outputs": [],
   "source": [
    "import pandas as pd\n",
    "import matplotlib.pyplot as plt\n",
    "import numpy as np"
   ]
  },
  {
   "cell_type": "code",
   "execution_count": 11,
   "metadata": {},
   "outputs": [
    {
     "data": {
      "application/vnd.microsoft.datawrangler.viewer.v0+json": {
       "columns": [
        {
         "name": "index",
         "rawType": "int64",
         "type": "integer"
        },
        {
         "name": "Sample ID",
         "rawType": "object",
         "type": "string"
        },
        {
         "name": "Country",
         "rawType": "object",
         "type": "string"
        },
        {
         "name": "State",
         "rawType": "object",
         "type": "string"
        },
        {
         "name": "County",
         "rawType": "object",
         "type": "string"
        },
        {
         "name": "Locality",
         "rawType": "object",
         "type": "string"
        },
        {
         "name": "Decimal Latitude",
         "rawType": "float64",
         "type": "float"
        },
        {
         "name": "Decimal Longitude",
         "rawType": "float64",
         "type": "float"
        },
        {
         "name": "Elevation (m)",
         "rawType": "float64",
         "type": "float"
        },
        {
         "name": "Start Day",
         "rawType": "int64",
         "type": "integer"
        },
        {
         "name": "Start Month",
         "rawType": "object",
         "type": "string"
        },
        {
         "name": "Start Year",
         "rawType": "int64",
         "type": "integer"
        },
        {
         "name": "End Day",
         "rawType": "int64",
         "type": "integer"
        },
        {
         "name": "End Month",
         "rawType": "object",
         "type": "string"
        },
        {
         "name": "End Year",
         "rawType": "int64",
         "type": "integer"
        },
        {
         "name": "Collection Method",
         "rawType": "object",
         "type": "string"
        },
        {
         "name": "Basis of record",
         "rawType": "object",
         "type": "string"
        },
        {
         "name": "Observer/Collector - Specific",
         "rawType": "object",
         "type": "string"
        },
        {
         "name": "Observer/Collector - Team",
         "rawType": "object",
         "type": "unknown"
        },
        {
         "name": "Notes",
         "rawType": "object",
         "type": "unknown"
        },
        {
         "name": "appositus Q",
         "rawType": "int64",
         "type": "integer"
        },
        {
         "name": "appositus W",
         "rawType": "int64",
         "type": "integer"
        },
        {
         "name": "appositus M",
         "rawType": "int64",
         "type": "integer"
        },
        {
         "name": "caliginosus Q",
         "rawType": "int64",
         "type": "integer"
        },
        {
         "name": "caliginosus W",
         "rawType": "int64",
         "type": "integer"
        },
        {
         "name": "caliginosus M",
         "rawType": "int64",
         "type": "integer"
        },
        {
         "name": "centralis Q",
         "rawType": "int64",
         "type": "integer"
        },
        {
         "name": "centralis W",
         "rawType": "int64",
         "type": "integer"
        },
        {
         "name": "centralis M",
         "rawType": "int64",
         "type": "integer"
        },
        {
         "name": "fervidus Q",
         "rawType": "int64",
         "type": "integer"
        },
        {
         "name": "fervidus W",
         "rawType": "int64",
         "type": "integer"
        },
        {
         "name": "fervidus M",
         "rawType": "int64",
         "type": "integer"
        },
        {
         "name": "flavidus Q",
         "rawType": "int64",
         "type": "integer"
        },
        {
         "name": "flavidus M",
         "rawType": "int64",
         "type": "integer"
        },
        {
         "name": "flavifrons Q",
         "rawType": "int64",
         "type": "integer"
        },
        {
         "name": "flavifrons W",
         "rawType": "int64",
         "type": "integer"
        },
        {
         "name": "flavifrons M",
         "rawType": "int64",
         "type": "integer"
        },
        {
         "name": "griseocollis Q",
         "rawType": "int64",
         "type": "integer"
        },
        {
         "name": "griseocollis W",
         "rawType": "int64",
         "type": "integer"
        },
        {
         "name": "griseocollis M",
         "rawType": "int64",
         "type": "integer"
        },
        {
         "name": "huntii Q",
         "rawType": "int64",
         "type": "integer"
        },
        {
         "name": "huntii W",
         "rawType": "int64",
         "type": "integer"
        },
        {
         "name": "huntii M",
         "rawType": "int64",
         "type": "integer"
        },
        {
         "name": "insularis Q",
         "rawType": "int64",
         "type": "integer"
        },
        {
         "name": "insularis M",
         "rawType": "int64",
         "type": "integer"
        },
        {
         "name": "melanopygus Q",
         "rawType": "int64",
         "type": "integer"
        },
        {
         "name": "melanopygus W",
         "rawType": "int64",
         "type": "integer"
        },
        {
         "name": "melanopygus M",
         "rawType": "int64",
         "type": "integer"
        },
        {
         "name": "mixtus Q",
         "rawType": "int64",
         "type": "integer"
        },
        {
         "name": "mixtus W",
         "rawType": "int64",
         "type": "integer"
        },
        {
         "name": "mixtus M",
         "rawType": "int64",
         "type": "integer"
        },
        {
         "name": "morrisoni Q",
         "rawType": "int64",
         "type": "integer"
        },
        {
         "name": "morrisoni W",
         "rawType": "int64",
         "type": "integer"
        },
        {
         "name": "morrisoni M",
         "rawType": "int64",
         "type": "integer"
        },
        {
         "name": "nevadensis Q",
         "rawType": "int64",
         "type": "integer"
        },
        {
         "name": "nevadensis W",
         "rawType": "int64",
         "type": "integer"
        },
        {
         "name": "nevadensis M",
         "rawType": "int64",
         "type": "integer"
        },
        {
         "name": "occidentalis Q",
         "rawType": "int64",
         "type": "integer"
        },
        {
         "name": "occidentalis W",
         "rawType": "int64",
         "type": "integer"
        },
        {
         "name": "occidentalis M",
         "rawType": "int64",
         "type": "integer"
        },
        {
         "name": "perplexus Q",
         "rawType": "int64",
         "type": "integer"
        },
        {
         "name": "perplexus W",
         "rawType": "int64",
         "type": "integer"
        },
        {
         "name": "perplexus M",
         "rawType": "int64",
         "type": "integer"
        },
        {
         "name": "rufocinctus Q",
         "rawType": "int64",
         "type": "integer"
        },
        {
         "name": "rufocinctus W",
         "rawType": "int64",
         "type": "integer"
        },
        {
         "name": "rufocinctus M",
         "rawType": "int64",
         "type": "integer"
        },
        {
         "name": "sitkensis Q",
         "rawType": "int64",
         "type": "integer"
        },
        {
         "name": "sitkensis W",
         "rawType": "int64",
         "type": "integer"
        },
        {
         "name": "sitkensis M",
         "rawType": "int64",
         "type": "integer"
        },
        {
         "name": "ternarius Q",
         "rawType": "int64",
         "type": "integer"
        },
        {
         "name": "ternarius W",
         "rawType": "int64",
         "type": "integer"
        },
        {
         "name": "ternarius M",
         "rawType": "int64",
         "type": "integer"
        },
        {
         "name": "vagans Q",
         "rawType": "int64",
         "type": "integer"
        },
        {
         "name": "vagans W",
         "rawType": "int64",
         "type": "integer"
        },
        {
         "name": "vagans M",
         "rawType": "int64",
         "type": "integer"
        },
        {
         "name": "vandykei Q",
         "rawType": "int64",
         "type": "integer"
        },
        {
         "name": "vandykei W",
         "rawType": "int64",
         "type": "integer"
        },
        {
         "name": "vandykei M",
         "rawType": "int64",
         "type": "integer"
        },
        {
         "name": "vancouverensis Q",
         "rawType": "int64",
         "type": "integer"
        },
        {
         "name": "vancouverensis W",
         "rawType": "int64",
         "type": "integer"
        },
        {
         "name": "vancouverensis M",
         "rawType": "int64",
         "type": "integer"
        },
        {
         "name": "vosnesenskii Q",
         "rawType": "int64",
         "type": "integer"
        },
        {
         "name": "vosnesenskii W",
         "rawType": "int64",
         "type": "integer"
        },
        {
         "name": "vosnesenskii M",
         "rawType": "int64",
         "type": "integer"
        },
        {
         "name": "total",
         "rawType": "int64",
         "type": "integer"
        }
       ],
       "ref": "196956f9-5c86-4797-9497-dd909f7e1bfa",
       "rows": [
        [
         "0",
         "OBAS-00657",
         "USA",
         "OR",
         "Jackson",
         "RRSNF, Silver Fork Gap",
         "42.0393",
         "-122.9159",
         null,
         "31",
         "vii",
         "2019",
         "15",
         "viii",
         "2019",
         "vane trap",
         "preserved insect specimen",
         "Judi Maxwell",
         "Grants Pass",
         null,
         "0",
         "0",
         "0",
         "0",
         "0",
         "0",
         "0",
         "0",
         "0",
         "0",
         "0",
         "0",
         "1",
         "3",
         "0",
         "20",
         "19",
         "0",
         "1",
         "0",
         "0",
         "0",
         "0",
         "0",
         "4",
         "0",
         "2",
         "2",
         "5",
         "24",
         "28",
         "0",
         "0",
         "0",
         "0",
         "0",
         "0",
         "0",
         "1",
         "0",
         "0",
         "0",
         "0",
         "0",
         "0",
         "0",
         "0",
         "0",
         "0",
         "0",
         "0",
         "0",
         "0",
         "0",
         "0",
         "0",
         "2",
         "0",
         "2",
         "37",
         "31",
         "5",
         "1748",
         "317",
         "2252"
        ],
        [
         "1",
         "OBAS-00016",
         "USA",
         "OR",
         "Umatilla",
         "Kelly Meadow, Umatilla NF",
         "45.1586",
         "-119.2768",
         null,
         "19",
         "June",
         "2020",
         "19",
         "July",
         "2020",
         "vane trap",
         "preserved insect specimen",
         "Sarah Gardner",
         null,
         "ARF",
         "9",
         "0",
         "0",
         "0",
         "0",
         "0",
         "18",
         "1",
         "0",
         "11",
         "2",
         "0",
         "103",
         "0",
         "40",
         "2",
         "0",
         "0",
         "0",
         "0",
         "1",
         "0",
         "0",
         "16",
         "0",
         "1",
         "0",
         "0",
         "880",
         "29",
         "0",
         "0",
         "0",
         "0",
         "0",
         "0",
         "0",
         "1",
         "0",
         "0",
         "0",
         "0",
         "0",
         "2",
         "0",
         "0",
         "0",
         "0",
         "0",
         "0",
         "0",
         "0",
         "0",
         "0",
         "0",
         "0",
         "0",
         "0",
         "181",
         "9",
         "0",
         "10",
         "0",
         "0",
         "1316"
        ],
        [
         "2",
         "OBAS-00526",
         "USA",
         "OR",
         "Umatilla",
         "Kelly Meadow, Umatilla NF",
         "45.1586",
         "-119.2768",
         null,
         "19",
         "july",
         "2020",
         "19",
         "august",
         "2020",
         "vane trap",
         "preserved insect specimen",
         "Sarah Gardner",
         null,
         "ARF",
         "9",
         "31",
         "25",
         "0",
         "0",
         "0",
         "10",
         "3",
         "15",
         "18",
         "48",
         "11",
         "17",
         "1",
         "8",
         "39",
         "20",
         "2",
         "5",
         "0",
         "0",
         "0",
         "0",
         "16",
         "11",
         "0",
         "0",
         "0",
         "41",
         "56",
         "3",
         "0",
         "0",
         "0",
         "3",
         "1",
         "0",
         "0",
         "10",
         "0",
         "0",
         "0",
         "0",
         "3",
         "5",
         "1",
         "0",
         "0",
         "0",
         "0",
         "0",
         "0",
         "0",
         "0",
         "0",
         "0",
         "0",
         "0",
         "62",
         "168",
         "39",
         "1",
         "4",
         "1",
         "687"
        ],
        [
         "3",
         "OBAS-00756",
         "USA",
         "OR",
         "Jackson",
         "Cascade-siskiyou national monument, moon prairie",
         "42.254",
         "-122.372",
         null,
         "21",
         "july",
         "2021",
         "21",
         "september",
         "2021",
         "vane trap",
         "preserved insect specimen",
         "C.Schelz; J.Maxwell",
         null,
         "BLM",
         "0",
         "0",
         "0",
         "0",
         "0",
         "0",
         "0",
         "0",
         "0",
         "0",
         "0",
         "2",
         "0",
         "0",
         "7",
         "23",
         "11",
         "0",
         "0",
         "0",
         "0",
         "0",
         "0",
         "1",
         "0",
         "0",
         "0",
         "0",
         "4",
         "4",
         "0",
         "0",
         "0",
         "0",
         "0",
         "0",
         "0",
         "0",
         "4",
         "0",
         "0",
         "0",
         "0",
         "0",
         "0",
         "0",
         "0",
         "0",
         "0",
         "0",
         "0",
         "0",
         "0",
         "0",
         "0",
         "1",
         "0",
         "0",
         "9",
         "28",
         "6",
         "1",
         "110",
         "15",
         "226"
        ]
       ],
       "shape": {
        "columns": 84,
        "rows": 4
       }
      },
      "text/html": [
       "<div>\n",
       "<style scoped>\n",
       "    .dataframe tbody tr th:only-of-type {\n",
       "        vertical-align: middle;\n",
       "    }\n",
       "\n",
       "    .dataframe tbody tr th {\n",
       "        vertical-align: top;\n",
       "    }\n",
       "\n",
       "    .dataframe thead th {\n",
       "        text-align: right;\n",
       "    }\n",
       "</style>\n",
       "<table border=\"1\" class=\"dataframe\">\n",
       "  <thead>\n",
       "    <tr style=\"text-align: right;\">\n",
       "      <th></th>\n",
       "      <th>Sample ID</th>\n",
       "      <th>Country</th>\n",
       "      <th>State</th>\n",
       "      <th>County</th>\n",
       "      <th>Locality</th>\n",
       "      <th>Decimal Latitude</th>\n",
       "      <th>Decimal Longitude</th>\n",
       "      <th>Elevation (m)</th>\n",
       "      <th>Start Day</th>\n",
       "      <th>Start Month</th>\n",
       "      <th>...</th>\n",
       "      <th>vandykei Q</th>\n",
       "      <th>vandykei W</th>\n",
       "      <th>vandykei M</th>\n",
       "      <th>vancouverensis Q</th>\n",
       "      <th>vancouverensis W</th>\n",
       "      <th>vancouverensis M</th>\n",
       "      <th>vosnesenskii Q</th>\n",
       "      <th>vosnesenskii W</th>\n",
       "      <th>vosnesenskii M</th>\n",
       "      <th>total</th>\n",
       "    </tr>\n",
       "  </thead>\n",
       "  <tbody>\n",
       "    <tr>\n",
       "      <th>0</th>\n",
       "      <td>OBAS-00657</td>\n",
       "      <td>USA</td>\n",
       "      <td>OR</td>\n",
       "      <td>Jackson</td>\n",
       "      <td>RRSNF, Silver Fork Gap</td>\n",
       "      <td>42.0393</td>\n",
       "      <td>-122.9159</td>\n",
       "      <td>NaN</td>\n",
       "      <td>31</td>\n",
       "      <td>vii</td>\n",
       "      <td>...</td>\n",
       "      <td>0</td>\n",
       "      <td>2</td>\n",
       "      <td>0</td>\n",
       "      <td>2</td>\n",
       "      <td>37</td>\n",
       "      <td>31</td>\n",
       "      <td>5</td>\n",
       "      <td>1748</td>\n",
       "      <td>317</td>\n",
       "      <td>2252</td>\n",
       "    </tr>\n",
       "    <tr>\n",
       "      <th>1</th>\n",
       "      <td>OBAS-00016</td>\n",
       "      <td>USA</td>\n",
       "      <td>OR</td>\n",
       "      <td>Umatilla</td>\n",
       "      <td>Kelly Meadow, Umatilla NF</td>\n",
       "      <td>45.1586</td>\n",
       "      <td>-119.2768</td>\n",
       "      <td>NaN</td>\n",
       "      <td>19</td>\n",
       "      <td>June</td>\n",
       "      <td>...</td>\n",
       "      <td>0</td>\n",
       "      <td>0</td>\n",
       "      <td>0</td>\n",
       "      <td>181</td>\n",
       "      <td>9</td>\n",
       "      <td>0</td>\n",
       "      <td>10</td>\n",
       "      <td>0</td>\n",
       "      <td>0</td>\n",
       "      <td>1316</td>\n",
       "    </tr>\n",
       "    <tr>\n",
       "      <th>2</th>\n",
       "      <td>OBAS-00526</td>\n",
       "      <td>USA</td>\n",
       "      <td>OR</td>\n",
       "      <td>Umatilla</td>\n",
       "      <td>Kelly Meadow, Umatilla NF</td>\n",
       "      <td>45.1586</td>\n",
       "      <td>-119.2768</td>\n",
       "      <td>NaN</td>\n",
       "      <td>19</td>\n",
       "      <td>july</td>\n",
       "      <td>...</td>\n",
       "      <td>0</td>\n",
       "      <td>0</td>\n",
       "      <td>0</td>\n",
       "      <td>62</td>\n",
       "      <td>168</td>\n",
       "      <td>39</td>\n",
       "      <td>1</td>\n",
       "      <td>4</td>\n",
       "      <td>1</td>\n",
       "      <td>687</td>\n",
       "    </tr>\n",
       "    <tr>\n",
       "      <th>3</th>\n",
       "      <td>OBAS-00756</td>\n",
       "      <td>USA</td>\n",
       "      <td>OR</td>\n",
       "      <td>Jackson</td>\n",
       "      <td>Cascade-siskiyou national monument, moon prairie</td>\n",
       "      <td>42.2540</td>\n",
       "      <td>-122.3720</td>\n",
       "      <td>NaN</td>\n",
       "      <td>21</td>\n",
       "      <td>july</td>\n",
       "      <td>...</td>\n",
       "      <td>1</td>\n",
       "      <td>0</td>\n",
       "      <td>0</td>\n",
       "      <td>9</td>\n",
       "      <td>28</td>\n",
       "      <td>6</td>\n",
       "      <td>1</td>\n",
       "      <td>110</td>\n",
       "      <td>15</td>\n",
       "      <td>226</td>\n",
       "    </tr>\n",
       "  </tbody>\n",
       "</table>\n",
       "<p>4 rows × 84 columns</p>\n",
       "</div>"
      ],
      "text/plain": [
       "    Sample ID Country State    County  \\\n",
       "0  OBAS-00657     USA    OR   Jackson   \n",
       "1  OBAS-00016     USA    OR  Umatilla   \n",
       "2  OBAS-00526     USA    OR  Umatilla   \n",
       "3  OBAS-00756     USA    OR   Jackson   \n",
       "\n",
       "                                           Locality  Decimal Latitude  \\\n",
       "0                            RRSNF, Silver Fork Gap           42.0393   \n",
       "1                         Kelly Meadow, Umatilla NF           45.1586   \n",
       "2                         Kelly Meadow, Umatilla NF           45.1586   \n",
       "3  Cascade-siskiyou national monument, moon prairie           42.2540   \n",
       "\n",
       "   Decimal Longitude  Elevation (m)  Start Day Start Month  ...  vandykei Q  \\\n",
       "0          -122.9159            NaN         31         vii  ...           0   \n",
       "1          -119.2768            NaN         19        June  ...           0   \n",
       "2          -119.2768            NaN         19        july  ...           0   \n",
       "3          -122.3720            NaN         21        july  ...           1   \n",
       "\n",
       "   vandykei W vandykei M  vancouverensis Q vancouverensis W vancouverensis M  \\\n",
       "0           2          0                 2               37               31   \n",
       "1           0          0               181                9                0   \n",
       "2           0          0                62              168               39   \n",
       "3           0          0                 9               28                6   \n",
       "\n",
       "  vosnesenskii Q vosnesenskii W vosnesenskii M  total  \n",
       "0              5           1748            317   2252  \n",
       "1             10              0              0   1316  \n",
       "2              1              4              1    687  \n",
       "3              1            110             15    226  \n",
       "\n",
       "[4 rows x 84 columns]"
      ]
     },
     "execution_count": 11,
     "metadata": {},
     "output_type": "execute_result"
    }
   ],
   "source": [
    "df = pd.read_csv('VaneTrapSampleData.csv')\n",
    "df"
   ]
  },
  {
   "cell_type": "code",
   "execution_count": 12,
   "metadata": {},
   "outputs": [],
   "source": [
    "df = df.iloc[:2,19:-1].reset_index()\n",
    "\n",
    "species_names = set(col.rsplit(' ', 1)[0] for col in df.columns)\n",
    "\n",
    "for species in species_names:\n",
    "    species_matches = [col for col in df.columns if col.startswith(species)]\n",
    "    df[species] = df[species_matches].sum(axis=1)\n",
    "    df.drop(columns=species_matches, inplace=True)\n",
    "\n",
    "df = df.loc[:, (df != 0).any(axis=0)]"
   ]
  },
  {
   "cell_type": "code",
   "execution_count": 13,
   "metadata": {},
   "outputs": [
    {
     "data": {
      "text/plain": [
       "['fervidus Q', 'fervidus W', 'fervidus M']"
      ]
     },
     "execution_count": 13,
     "metadata": {},
     "output_type": "execute_result"
    }
   ],
   "source": [
    "species_matches"
   ]
  },
  {
   "cell_type": "code",
   "execution_count": 14,
   "metadata": {},
   "outputs": [],
   "source": [
    "df = df[df.iloc[0].sort_values(ascending=True).index]"
   ]
  },
  {
   "cell_type": "code",
   "execution_count": 15,
   "metadata": {},
   "outputs": [
    {
     "data": {
      "text/plain": [
       "15"
      ]
     },
     "execution_count": 15,
     "metadata": {},
     "output_type": "execute_result"
    }
   ],
   "source": [
    "len(df.columns)"
   ]
  },
  {
   "cell_type": "code",
   "execution_count": 16,
   "metadata": {},
   "outputs": [
    {
     "data": {
      "image/png": "[encoded data removed]",
      "text/plain": [
       "<Figure size 800x350 with 2 Axes>"
      ]
     },
     "metadata": {},
     "output_type": "display_data"
    }
   ],
   "source": [
    "# plt.rcParams['font.family'] = 'Helvetica'\n",
    "\n",
    "fig, axs = plt.subplots(nrows=1, ncols=2, figsize=(8, 3.5), sharey=True, gridspec_kw={'width_ratios': [1, 1]})\n",
    "\n",
    "colors = ['#1f77b4', '#ff7f0e', '#2ca02c', '#d62728', '#9467bd', '#8c564b', '#e377c2', '#7f7f7f', '#bcbd22', '#17becf', '#aec7e8', '#ffbb78', '#98df8a', '#f7b6d2']\n",
    "\n",
    "\n",
    "for idx, ax in enumerate(axs):\n",
    "    row_data = df.loc[idx,:]\n",
    "    row_data.plot(kind='barh', ax=ax, color=colors)\n",
    "    # ax.set_xlim(0, 280)\n",
    "    # if idx == 0:\n",
    "    #     ax.set_ylabel('Species')\n",
    "    # else:\n",
    "    #     ax.set_ylabel('')\n",
    "\n",
    "plt.tight_layout()\n",
    "# plt.savefig('trap_species_list.svg', bbox_inches='tight', pad_inches=0, format='svg', dpi=300)"
   ]
  }
 ],
 "metadata": {
  "kernelspec": {
   "display_name": "bee_mapping",
   "language": "python",
   "name": "python3"
  },
  "language_info": {
   "codemirror_mode": {
    "name": "ipython",
    "version": 3
   },
   "file_extension": ".py",
   "mimetype": "text/x-python",
   "name": "python",
   "nbconvert_exporter": "python",
   "pygments_lexer": "ipython3",
   "version": "3.12.0"
  }
 },
 "nbformat": 4,
 "nbformat_minor": 2
}
